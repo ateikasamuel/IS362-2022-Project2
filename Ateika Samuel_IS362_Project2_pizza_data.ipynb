{
 "cells": [
  {
   "cell_type": "code",
   "execution_count": 26,
   "id": "6f1037d0",
   "metadata": {},
   "outputs": [
    {
     "data": {
      "text/html": [
       "<div>\n",
       "<style scoped>\n",
       "    .dataframe tbody tr th:only-of-type {\n",
       "        vertical-align: middle;\n",
       "    }\n",
       "\n",
       "    .dataframe tbody tr th {\n",
       "        vertical-align: top;\n",
       "    }\n",
       "\n",
       "    .dataframe thead th {\n",
       "        text-align: right;\n",
       "    }\n",
       "</style>\n",
       "<table border=\"1\" class=\"dataframe\">\n",
       "  <thead>\n",
       "    <tr style=\"text-align: right;\">\n",
       "      <th></th>\n",
       "      <th>Company</th>\n",
       "      <th>Pizza Name</th>\n",
       "      <th>Type</th>\n",
       "      <th>Size</th>\n",
       "      <th>Price</th>\n",
       "    </tr>\n",
       "  </thead>\n",
       "  <tbody>\n",
       "    <tr>\n",
       "      <th>0</th>\n",
       "      <td>Domino's Pizza</td>\n",
       "      <td>Hand Tossed</td>\n",
       "      <td>Cheeses Pizza</td>\n",
       "      <td>Small (10\")</td>\n",
       "      <td>5.99</td>\n",
       "    </tr>\n",
       "    <tr>\n",
       "      <th>1</th>\n",
       "      <td>Domino's Pizza</td>\n",
       "      <td>Hand Tossed</td>\n",
       "      <td>Cheeses Pizza</td>\n",
       "      <td>Medium (12\")</td>\n",
       "      <td>7.99</td>\n",
       "    </tr>\n",
       "    <tr>\n",
       "      <th>2</th>\n",
       "      <td>Domino's Pizza</td>\n",
       "      <td>Hand Tossed</td>\n",
       "      <td>Cheeses Pizza</td>\n",
       "      <td>Large (14\")</td>\n",
       "      <td>9.99</td>\n",
       "    </tr>\n",
       "    <tr>\n",
       "      <th>3</th>\n",
       "      <td>Domino's Pizza</td>\n",
       "      <td>Handmade Pan</td>\n",
       "      <td>Cheeses Pizza</td>\n",
       "      <td>Medium (12\")</td>\n",
       "      <td>7.99</td>\n",
       "    </tr>\n",
       "    <tr>\n",
       "      <th>4</th>\n",
       "      <td>Domino's Pizza</td>\n",
       "      <td>Crunchy Thin Crust</td>\n",
       "      <td>Cheeses Pizza</td>\n",
       "      <td>Small (10\")</td>\n",
       "      <td>5.99</td>\n",
       "    </tr>\n",
       "    <tr>\n",
       "      <th>...</th>\n",
       "      <td>...</td>\n",
       "      <td>...</td>\n",
       "      <td>...</td>\n",
       "      <td>...</td>\n",
       "      <td>...</td>\n",
       "    </tr>\n",
       "    <tr>\n",
       "      <th>366</th>\n",
       "      <td>IMO's Pizza</td>\n",
       "      <td>BBQ Chicken Pizza</td>\n",
       "      <td>Specialty Pizzas</td>\n",
       "      <td>X Large (16\")</td>\n",
       "      <td>23.85</td>\n",
       "    </tr>\n",
       "    <tr>\n",
       "      <th>367</th>\n",
       "      <td>IMO's Pizza</td>\n",
       "      <td>Egg-Ceptional Pizza</td>\n",
       "      <td>Specialty Pizzas</td>\n",
       "      <td>Small (10\")</td>\n",
       "      <td>11.80</td>\n",
       "    </tr>\n",
       "    <tr>\n",
       "      <th>368</th>\n",
       "      <td>IMO's Pizza</td>\n",
       "      <td>Egg-Ceptional Pizza</td>\n",
       "      <td>Specialty Pizzas</td>\n",
       "      <td>Medium (12\")</td>\n",
       "      <td>14.95</td>\n",
       "    </tr>\n",
       "    <tr>\n",
       "      <th>369</th>\n",
       "      <td>IMO's Pizza</td>\n",
       "      <td>Egg-Ceptional Pizza</td>\n",
       "      <td>Specialty Pizzas</td>\n",
       "      <td>Large (14\")</td>\n",
       "      <td>18.65</td>\n",
       "    </tr>\n",
       "    <tr>\n",
       "      <th>370</th>\n",
       "      <td>IMO's Pizza</td>\n",
       "      <td>Egg-Ceptional Pizza</td>\n",
       "      <td>Specialty Pizzas</td>\n",
       "      <td>X Large (16\")</td>\n",
       "      <td>22.30</td>\n",
       "    </tr>\n",
       "  </tbody>\n",
       "</table>\n",
       "<p>371 rows × 5 columns</p>\n",
       "</div>"
      ],
      "text/plain": [
       "            Company           Pizza Name              Type           Size  \\\n",
       "0    Domino's Pizza          Hand Tossed     Cheeses Pizza    Small (10\")   \n",
       "1    Domino's Pizza          Hand Tossed     Cheeses Pizza   Medium (12\")   \n",
       "2    Domino's Pizza          Hand Tossed     Cheeses Pizza    Large (14\")   \n",
       "3    Domino's Pizza         Handmade Pan     Cheeses Pizza   Medium (12\")   \n",
       "4    Domino's Pizza   Crunchy Thin Crust     Cheeses Pizza    Small (10\")   \n",
       "..              ...                  ...               ...            ...   \n",
       "366     IMO's Pizza    BBQ Chicken Pizza  Specialty Pizzas  X Large (16\")   \n",
       "367     IMO's Pizza  Egg-Ceptional Pizza  Specialty Pizzas    Small (10\")   \n",
       "368     IMO's Pizza  Egg-Ceptional Pizza  Specialty Pizzas   Medium (12\")   \n",
       "369     IMO's Pizza  Egg-Ceptional Pizza  Specialty Pizzas    Large (14\")   \n",
       "370     IMO's Pizza  Egg-Ceptional Pizza  Specialty Pizzas  X Large (16\")   \n",
       "\n",
       "     Price  \n",
       "0     5.99  \n",
       "1     7.99  \n",
       "2     9.99  \n",
       "3     7.99  \n",
       "4     5.99  \n",
       "..     ...  \n",
       "366  23.85  \n",
       "367  11.80  \n",
       "368  14.95  \n",
       "369  18.65  \n",
       "370  22.30  \n",
       "\n",
       "[371 rows x 5 columns]"
      ]
     },
     "execution_count": 26,
     "metadata": {},
     "output_type": "execute_result"
    }
   ],
   "source": [
    "# Import pandas and numpy, DataFrame/Series\n",
    "import pandas as pd\n",
    "import numpy as np\n",
    "from pandas import DataFrame, Series\n",
    "\n",
    "# Add items for matplotlib\n",
    "%matplotlib inline\n",
    "import matplotlib\n",
    "matplotlib.style.use('ggplot')\n",
    "\n",
    "#Read the contents of pizza_data.csv into a DataFrame\n",
    "pizza = pd.read_csv(\"D:/IS362_Project2/Pizza Data/pizza_data.csv\")\n",
    "\n",
    "#Display the contents of pizza_data.csv DataFrame\n",
    "pizza"
   ]
  },
  {
   "cell_type": "code",
   "execution_count": 27,
   "id": "0f86ba84",
   "metadata": {},
   "outputs": [
    {
     "data": {
      "text/html": [
       "<div>\n",
       "<style scoped>\n",
       "    .dataframe tbody tr th:only-of-type {\n",
       "        vertical-align: middle;\n",
       "    }\n",
       "\n",
       "    .dataframe tbody tr th {\n",
       "        vertical-align: top;\n",
       "    }\n",
       "\n",
       "    .dataframe thead th {\n",
       "        text-align: right;\n",
       "    }\n",
       "</style>\n",
       "<table border=\"1\" class=\"dataframe\">\n",
       "  <thead>\n",
       "    <tr style=\"text-align: right;\">\n",
       "      <th></th>\n",
       "      <th>Pizza Name</th>\n",
       "      <th>Type</th>\n",
       "      <th>Size</th>\n",
       "      <th>Price</th>\n",
       "    </tr>\n",
       "  </thead>\n",
       "  <tbody>\n",
       "    <tr>\n",
       "      <th>0</th>\n",
       "      <td>Hand Tossed</td>\n",
       "      <td>Cheeses Pizza</td>\n",
       "      <td>Small (10\")</td>\n",
       "      <td>5.99</td>\n",
       "    </tr>\n",
       "    <tr>\n",
       "      <th>1</th>\n",
       "      <td>Hand Tossed</td>\n",
       "      <td>Cheeses Pizza</td>\n",
       "      <td>Medium (12\")</td>\n",
       "      <td>7.99</td>\n",
       "    </tr>\n",
       "    <tr>\n",
       "      <th>2</th>\n",
       "      <td>Hand Tossed</td>\n",
       "      <td>Cheeses Pizza</td>\n",
       "      <td>Large (14\")</td>\n",
       "      <td>9.99</td>\n",
       "    </tr>\n",
       "    <tr>\n",
       "      <th>3</th>\n",
       "      <td>Handmade Pan</td>\n",
       "      <td>Cheeses Pizza</td>\n",
       "      <td>Medium (12\")</td>\n",
       "      <td>7.99</td>\n",
       "    </tr>\n",
       "    <tr>\n",
       "      <th>4</th>\n",
       "      <td>Crunchy Thin Crust</td>\n",
       "      <td>Cheeses Pizza</td>\n",
       "      <td>Small (10\")</td>\n",
       "      <td>5.99</td>\n",
       "    </tr>\n",
       "    <tr>\n",
       "      <th>...</th>\n",
       "      <td>...</td>\n",
       "      <td>...</td>\n",
       "      <td>...</td>\n",
       "      <td>...</td>\n",
       "    </tr>\n",
       "    <tr>\n",
       "      <th>83</th>\n",
       "      <td>Ultimate Pepperoni Feast™ (Hand Tossed or Thin...</td>\n",
       "      <td>Feast Pizzas</td>\n",
       "      <td>Small (10\")</td>\n",
       "      <td>11.99</td>\n",
       "    </tr>\n",
       "    <tr>\n",
       "      <th>84</th>\n",
       "      <td>Ultimate Pepperoni Feast™ (Hand Tossed, Handma...</td>\n",
       "      <td>Feast Pizzas</td>\n",
       "      <td>Medium (12\")</td>\n",
       "      <td>13.99</td>\n",
       "    </tr>\n",
       "    <tr>\n",
       "      <th>85</th>\n",
       "      <td>Ultimate Pepperoni Feast™ (Hand Tossed, Thin C...</td>\n",
       "      <td>Feast Pizzas</td>\n",
       "      <td>Large (14\")</td>\n",
       "      <td>15.99</td>\n",
       "    </tr>\n",
       "    <tr>\n",
       "      <th>86</th>\n",
       "      <td>Ultimate Pepperoni Feast™ (Brooklyn Style)</td>\n",
       "      <td>Feast Pizzas</td>\n",
       "      <td>X-Large (16\")</td>\n",
       "      <td>17.99</td>\n",
       "    </tr>\n",
       "    <tr>\n",
       "      <th>87</th>\n",
       "      <td>Ultimate Pepperoni Feast™ (Gluten Free Crust)</td>\n",
       "      <td>Feast Pizzas</td>\n",
       "      <td>Small (10\")</td>\n",
       "      <td>14.99</td>\n",
       "    </tr>\n",
       "  </tbody>\n",
       "</table>\n",
       "<p>88 rows × 4 columns</p>\n",
       "</div>"
      ],
      "text/plain": [
       "                                           Pizza Name           Type  \\\n",
       "0                                         Hand Tossed  Cheeses Pizza   \n",
       "1                                         Hand Tossed  Cheeses Pizza   \n",
       "2                                         Hand Tossed  Cheeses Pizza   \n",
       "3                                        Handmade Pan  Cheeses Pizza   \n",
       "4                                  Crunchy Thin Crust  Cheeses Pizza   \n",
       "..                                                ...            ...   \n",
       "83  Ultimate Pepperoni Feast™ (Hand Tossed or Thin...   Feast Pizzas   \n",
       "84  Ultimate Pepperoni Feast™ (Hand Tossed, Handma...   Feast Pizzas   \n",
       "85  Ultimate Pepperoni Feast™ (Hand Tossed, Thin C...   Feast Pizzas   \n",
       "86         Ultimate Pepperoni Feast™ (Brooklyn Style)   Feast Pizzas   \n",
       "87      Ultimate Pepperoni Feast™ (Gluten Free Crust)   Feast Pizzas   \n",
       "\n",
       "             Size  Price  \n",
       "0     Small (10\")   5.99  \n",
       "1    Medium (12\")   7.99  \n",
       "2     Large (14\")   9.99  \n",
       "3    Medium (12\")   7.99  \n",
       "4     Small (10\")   5.99  \n",
       "..            ...    ...  \n",
       "83    Small (10\")  11.99  \n",
       "84   Medium (12\")  13.99  \n",
       "85    Large (14\")  15.99  \n",
       "86  X-Large (16\")  17.99  \n",
       "87    Small (10\")  14.99  \n",
       "\n",
       "[88 rows x 4 columns]"
      ]
     },
     "execution_count": 27,
     "metadata": {},
     "output_type": "execute_result"
    }
   ],
   "source": [
    "# Drop any row that doesn't contain the value Domino's Pizza\n",
    "dominos = pizza[pizza[\"Company\"].str.contains(\"Pizza Hut|IMO's Pizza|Godfather's Pizza\")==False]\n",
    "\n",
    "dominos = dominos.drop(['Company'], axis=1)\n",
    "    \n",
    "#Display the updated DataFrame\n",
    "dominos"
   ]
  },
  {
   "cell_type": "code",
   "execution_count": 50,
   "id": "a67c9ebb",
   "metadata": {},
   "outputs": [
    {
     "data": {
      "text/plain": [
       "Type              Size         \n",
       "Cheeses Pizza     Large (14\")       9.99\n",
       "                  Medium (12\")      7.99\n",
       "                  Small (10\")       6.99\n",
       "                  X-Large (16\")    11.99\n",
       "Feast Pizzas      Large (14\")      15.99\n",
       "                  Medium (12\")     14.49\n",
       "                  Small (10\")      13.49\n",
       "                  X-Large (16\")    17.99\n",
       "Specialty Pizzas  Large (14\")      15.99\n",
       "                  Medium (12\")     13.99\n",
       "                  Small (10\")      13.49\n",
       "                  X-Large (16\")    17.99\n",
       "Name: Price, dtype: float64"
      ]
     },
     "execution_count": 50,
     "metadata": {},
     "output_type": "execute_result"
    }
   ],
   "source": [
    "# Calculate the average price of each pizza based on Size\n",
    "dom_price_avg = dominos.groupby([\"Type\",\"Size\"])[\"Price\"].mean()\n",
    "\n",
    "# Display the average price of each pizza based on Size\n",
    "dom_price_avg"
   ]
  },
  {
   "cell_type": "code",
   "execution_count": 55,
   "id": "e9c08f23",
   "metadata": {},
   "outputs": [
    {
     "data": {
      "text/plain": [
       "Size\n",
       "Large (14\")       9.99\n",
       "Medium (12\")      7.99\n",
       "Small (10\")       5.99\n",
       "X-Large (16\")    11.99\n",
       "Name: Price, dtype: float64"
      ]
     },
     "execution_count": 55,
     "metadata": {},
     "output_type": "execute_result"
    }
   ],
   "source": [
    "# Calculate the lowest price for each pizza by size\n",
    "dom_size_lowest = dominos.groupby([\"Size\"])[\"Price\"].min()\n",
    "\n",
    "# Display the lowest price for each pizza by size\n",
    "dom_size_lowest"
   ]
  },
  {
   "cell_type": "code",
   "execution_count": 58,
   "id": "a834e390",
   "metadata": {},
   "outputs": [
    {
     "data": {
      "text/plain": [
       "Type\n",
       "Cheeses Pizza        5.99\n",
       "Feast Pizzas        11.99\n",
       "Specialty Pizzas    11.99\n",
       "Name: Price, dtype: float64"
      ]
     },
     "execution_count": 58,
     "metadata": {},
     "output_type": "execute_result"
    }
   ],
   "source": [
    "# Calculate the lowest price for each pizza by type\n",
    "dom_type_lowest = dominos.groupby([\"Type\"])[\"Price\"].min()\n",
    "\n",
    "# Display the lowest price for each pizza by type\n",
    "dom_type_lowest"
   ]
  },
  {
   "cell_type": "code",
   "execution_count": 59,
   "id": "70cccc14",
   "metadata": {},
   "outputs": [
    {
     "data": {
      "text/plain": [
       "Size\n",
       "Large (14\")      15.99\n",
       "Medium (12\")     15.49\n",
       "Small (10\")      14.99\n",
       "X-Large (16\")    17.99\n",
       "Name: Price, dtype: float64"
      ]
     },
     "execution_count": 59,
     "metadata": {},
     "output_type": "execute_result"
    }
   ],
   "source": [
    "# Calculate the highest price for each pizza by size\n",
    "dom_size_highest = dominos.groupby([\"Size\"])[\"Price\"].max()\n",
    "\n",
    "# Display the higest price for each pizza by size\n",
    "dom_size_highest"
   ]
  },
  {
   "cell_type": "code",
   "execution_count": 60,
   "id": "90f4e30f",
   "metadata": {},
   "outputs": [
    {
     "data": {
      "text/plain": [
       "Type\n",
       "Cheeses Pizza       11.99\n",
       "Feast Pizzas        17.99\n",
       "Specialty Pizzas    17.99\n",
       "Name: Price, dtype: float64"
      ]
     },
     "execution_count": 60,
     "metadata": {},
     "output_type": "execute_result"
    }
   ],
   "source": [
    "# Calculate the highest price for each pizza by type\n",
    "dom_type_highest = dominos.groupby([\"Type\"])[\"Price\"].max()\n",
    "\n",
    "# Display the hightest price for each pizza by type\n",
    "dom_type_highest"
   ]
  },
  {
   "cell_type": "code",
   "execution_count": 81,
   "id": "eb0a7116",
   "metadata": {},
   "outputs": [
    {
     "data": {
      "text/html": [
       "<div>\n",
       "<style scoped>\n",
       "    .dataframe tbody tr th:only-of-type {\n",
       "        vertical-align: middle;\n",
       "    }\n",
       "\n",
       "    .dataframe tbody tr th {\n",
       "        vertical-align: top;\n",
       "    }\n",
       "\n",
       "    .dataframe thead th {\n",
       "        text-align: right;\n",
       "    }\n",
       "</style>\n",
       "<table border=\"1\" class=\"dataframe\">\n",
       "  <thead>\n",
       "    <tr style=\"text-align: right;\">\n",
       "      <th></th>\n",
       "      <th>Pizza Name</th>\n",
       "      <th>Type</th>\n",
       "      <th>Size</th>\n",
       "      <th>Price</th>\n",
       "    </tr>\n",
       "  </thead>\n",
       "  <tbody>\n",
       "    <tr>\n",
       "      <th>88</th>\n",
       "      <td>Hand-Tossed</td>\n",
       "      <td>Cheese Pizza</td>\n",
       "      <td>Medium</td>\n",
       "      <td>8.49</td>\n",
       "    </tr>\n",
       "    <tr>\n",
       "      <th>89</th>\n",
       "      <td>Hand-Tossed</td>\n",
       "      <td>Cheese Pizza</td>\n",
       "      <td>Large</td>\n",
       "      <td>10.49</td>\n",
       "    </tr>\n",
       "    <tr>\n",
       "      <th>90</th>\n",
       "      <td>Pan Pizza</td>\n",
       "      <td>Cheese Pizza</td>\n",
       "      <td>Personal</td>\n",
       "      <td>4.29</td>\n",
       "    </tr>\n",
       "    <tr>\n",
       "      <th>91</th>\n",
       "      <td>Pan Pizza</td>\n",
       "      <td>Cheese Pizza</td>\n",
       "      <td>Medium</td>\n",
       "      <td>8.49</td>\n",
       "    </tr>\n",
       "    <tr>\n",
       "      <th>92</th>\n",
       "      <td>Pan Pizza</td>\n",
       "      <td>Cheese Pizza</td>\n",
       "      <td>Large</td>\n",
       "      <td>10.49</td>\n",
       "    </tr>\n",
       "    <tr>\n",
       "      <th>...</th>\n",
       "      <td>...</td>\n",
       "      <td>...</td>\n",
       "      <td>...</td>\n",
       "      <td>...</td>\n",
       "    </tr>\n",
       "    <tr>\n",
       "      <th>209</th>\n",
       "      <td>Skinny With A Kick™ (Skinny Slice)</td>\n",
       "      <td>Skinny Pizzas</td>\n",
       "      <td>Large</td>\n",
       "      <td>15.49</td>\n",
       "    </tr>\n",
       "    <tr>\n",
       "      <th>210</th>\n",
       "      <td>Skinny Italy (Skinny Slice)</td>\n",
       "      <td>Skinny Pizzas</td>\n",
       "      <td>Large</td>\n",
       "      <td>15.49</td>\n",
       "    </tr>\n",
       "    <tr>\n",
       "      <th>211</th>\n",
       "      <td>Skinny Luau™ (Skinny Slice)</td>\n",
       "      <td>Skinny Pizzas</td>\n",
       "      <td>Large</td>\n",
       "      <td>15.49</td>\n",
       "    </tr>\n",
       "    <tr>\n",
       "      <th>212</th>\n",
       "      <td>Skinny Club™ (Skinny Slice)</td>\n",
       "      <td>Skinny Pizzas</td>\n",
       "      <td>Large</td>\n",
       "      <td>15.49</td>\n",
       "    </tr>\n",
       "    <tr>\n",
       "      <th>213</th>\n",
       "      <td>Create Your Own (Gluten-Free Crust)</td>\n",
       "      <td>Gluten-Free Pizzas</td>\n",
       "      <td>Small</td>\n",
       "      <td>9.99</td>\n",
       "    </tr>\n",
       "  </tbody>\n",
       "</table>\n",
       "<p>126 rows × 4 columns</p>\n",
       "</div>"
      ],
      "text/plain": [
       "                              Pizza Name                Type      Size  Price\n",
       "88                           Hand-Tossed        Cheese Pizza    Medium   8.49\n",
       "89                           Hand-Tossed        Cheese Pizza     Large  10.49\n",
       "90                             Pan Pizza        Cheese Pizza  Personal   4.29\n",
       "91                             Pan Pizza        Cheese Pizza    Medium   8.49\n",
       "92                             Pan Pizza        Cheese Pizza     Large  10.49\n",
       "..                                   ...                 ...       ...    ...\n",
       "209   Skinny With A Kick™ (Skinny Slice)       Skinny Pizzas     Large  15.49\n",
       "210          Skinny Italy (Skinny Slice)       Skinny Pizzas     Large  15.49\n",
       "211          Skinny Luau™ (Skinny Slice)       Skinny Pizzas     Large  15.49\n",
       "212          Skinny Club™ (Skinny Slice)       Skinny Pizzas     Large  15.49\n",
       "213  Create Your Own (Gluten-Free Crust)  Gluten-Free Pizzas     Small   9.99\n",
       "\n",
       "[126 rows x 4 columns]"
      ]
     },
     "execution_count": 81,
     "metadata": {},
     "output_type": "execute_result"
    }
   ],
   "source": [
    "# Drop any row that doesn't contain the value Pizza Hut's Pizza\n",
    "Pizza_Hut = pizza[pizza[\"Company\"].str.contains(\"Domino's Pizza|IMO's Pizza|Godfather's Pizza\")==False]\n",
    "\n",
    "Pizza_Hut = Pizza_Hut.drop(['Company'], axis=1)\n",
    "    \n",
    "#Display the updated DataFrame\n",
    "Pizza_Hut"
   ]
  },
  {
   "cell_type": "code",
   "execution_count": 62,
   "id": "e5d0f45b",
   "metadata": {},
   "outputs": [
    {
     "data": {
      "text/plain": [
       "Type                   Size    \n",
       "Cheese Pizza           Large       10.89\n",
       "                       Medium       8.49\n",
       "                       Personal     4.29\n",
       "Classic Recipe Pizzas  Large       16.09\n",
       "                       Medium      12.69\n",
       "                       Personal     4.89\n",
       "Gluten-Free Pizzas     Small        9.99\n",
       "New Recipe Pizzas      Large       15.49\n",
       "                       Medium      12.49\n",
       "                       Personal     4.79\n",
       "Skinny Pizzas          Large       15.49\n",
       "Name: Price, dtype: float64"
      ]
     },
     "execution_count": 62,
     "metadata": {},
     "output_type": "execute_result"
    }
   ],
   "source": [
    "# Calculate the average price of each pizza based on Size\n",
    "PizHut_price_avg = Pizza_Hut.groupby([\"Type\",\"Size\"])[\"Price\"].mean()\n",
    "\n",
    "# Display the average price of each pizza based on Size\n",
    "PizHut_price_avg"
   ]
  },
  {
   "cell_type": "code",
   "execution_count": 63,
   "id": "7dab911a",
   "metadata": {},
   "outputs": [
    {
     "data": {
      "text/plain": [
       "Size\n",
       "Large       10.49\n",
       "Medium       8.49\n",
       "Personal     4.29\n",
       "Small        9.99\n",
       "Name: Price, dtype: float64"
      ]
     },
     "execution_count": 63,
     "metadata": {},
     "output_type": "execute_result"
    }
   ],
   "source": [
    "# Calculate the lowest price for each pizza by size\n",
    "PizHut_size_lowest = Pizza_Hut.groupby([\"Size\"])[\"Price\"].min()\n",
    "\n",
    "# Display the lowest price for each pizza by size\n",
    "PizHut_size_lowest"
   ]
  },
  {
   "cell_type": "code",
   "execution_count": 64,
   "id": "8f3b6ac9",
   "metadata": {},
   "outputs": [
    {
     "data": {
      "text/plain": [
       "Type\n",
       "Cheese Pizza              4.29\n",
       "Classic Recipe Pizzas     4.79\n",
       "Gluten-Free Pizzas        9.99\n",
       "New Recipe Pizzas         4.79\n",
       "Skinny Pizzas            15.49\n",
       "Name: Price, dtype: float64"
      ]
     },
     "execution_count": 64,
     "metadata": {},
     "output_type": "execute_result"
    }
   ],
   "source": [
    "# Calculate the lowest price for each pizza by type\n",
    "PizHut_type_lowest = Pizza_Hut.groupby([\"Type\"])[\"Price\"].min()\n",
    "\n",
    "# Display the lowest price for each pizza by type\n",
    "PizHut_type_lowest"
   ]
  },
  {
   "cell_type": "code",
   "execution_count": 74,
   "id": "a947d860",
   "metadata": {},
   "outputs": [
    {
     "data": {
      "text/plain": [
       "Size\n",
       "Large       18.49\n",
       "Medium      13.49\n",
       "Personal     5.29\n",
       "Small        9.99\n",
       "Name: Price, dtype: float64"
      ]
     },
     "execution_count": 74,
     "metadata": {},
     "output_type": "execute_result"
    }
   ],
   "source": [
    "# Calculate the highest price for each pizza by size\n",
    "PizHut_size_highest = Pizza_Hut.groupby([\"Size\"])[\"Price\"].max()\n",
    "\n",
    "# Display the higest price for each pizza by size\n",
    "PizHut_size_highest"
   ]
  },
  {
   "cell_type": "code",
   "execution_count": 73,
   "id": "a077b75a",
   "metadata": {},
   "outputs": [
    {
     "data": {
      "text/plain": [
       "Type\n",
       "Cheese Pizza             12.49\n",
       "Classic Recipe Pizzas    18.49\n",
       "Gluten-Free Pizzas        9.99\n",
       "New Recipe Pizzas        15.49\n",
       "Skinny Pizzas            15.49\n",
       "Name: Price, dtype: float64"
      ]
     },
     "execution_count": 73,
     "metadata": {},
     "output_type": "execute_result"
    }
   ],
   "source": [
    "# Calculate the highest price for each pizza by type\n",
    "PizHut_type_highest = Pizza_Hut.groupby([\"Type\"])[\"Price\"].max()\n",
    "\n",
    "# Display the hightest price for each pizza by type\n",
    "PizHut_type_highest"
   ]
  },
  {
   "cell_type": "code",
   "execution_count": 82,
   "id": "0f898a79",
   "metadata": {},
   "outputs": [
    {
     "data": {
      "text/html": [
       "<div>\n",
       "<style scoped>\n",
       "    .dataframe tbody tr th:only-of-type {\n",
       "        vertical-align: middle;\n",
       "    }\n",
       "\n",
       "    .dataframe tbody tr th {\n",
       "        vertical-align: top;\n",
       "    }\n",
       "\n",
       "    .dataframe thead th {\n",
       "        text-align: right;\n",
       "    }\n",
       "</style>\n",
       "<table border=\"1\" class=\"dataframe\">\n",
       "  <thead>\n",
       "    <tr style=\"text-align: right;\">\n",
       "      <th></th>\n",
       "      <th>Pizza Name</th>\n",
       "      <th>Type</th>\n",
       "      <th>Size</th>\n",
       "      <th>Price</th>\n",
       "    </tr>\n",
       "  </thead>\n",
       "  <tbody>\n",
       "    <tr>\n",
       "      <th>214</th>\n",
       "      <td>Cheese (Original Crust)</td>\n",
       "      <td>Cheese Pizza</td>\n",
       "      <td>Mini</td>\n",
       "      <td>4.99</td>\n",
       "    </tr>\n",
       "    <tr>\n",
       "      <th>215</th>\n",
       "      <td>Cheese (Original or Golden Crust)</td>\n",
       "      <td>Cheese Pizza</td>\n",
       "      <td>Small</td>\n",
       "      <td>10.99</td>\n",
       "    </tr>\n",
       "    <tr>\n",
       "      <th>216</th>\n",
       "      <td>Cheese (Original, Golden or Thin Crust)</td>\n",
       "      <td>Cheese Pizza</td>\n",
       "      <td>Medium</td>\n",
       "      <td>12.99</td>\n",
       "    </tr>\n",
       "    <tr>\n",
       "      <th>217</th>\n",
       "      <td>Cheese (Mozza-Loaded Crust)</td>\n",
       "      <td>Cheese Pizza</td>\n",
       "      <td>Medium</td>\n",
       "      <td>13.49</td>\n",
       "    </tr>\n",
       "    <tr>\n",
       "      <th>218</th>\n",
       "      <td>Cheese (Original, Golden or Thin Crust)</td>\n",
       "      <td>Cheese Pizza</td>\n",
       "      <td>Large</td>\n",
       "      <td>15.99</td>\n",
       "    </tr>\n",
       "    <tr>\n",
       "      <th>...</th>\n",
       "      <td>...</td>\n",
       "      <td>...</td>\n",
       "      <td>...</td>\n",
       "      <td>...</td>\n",
       "    </tr>\n",
       "    <tr>\n",
       "      <th>342</th>\n",
       "      <td>Original, Golden or Thin Crust</td>\n",
       "      <td>Express Favorites</td>\n",
       "      <td>Medium</td>\n",
       "      <td>15.34</td>\n",
       "    </tr>\n",
       "    <tr>\n",
       "      <th>343</th>\n",
       "      <td>Mozza-Loaded Crust</td>\n",
       "      <td>Express Favorites</td>\n",
       "      <td>Medium</td>\n",
       "      <td>15.24</td>\n",
       "    </tr>\n",
       "    <tr>\n",
       "      <th>344</th>\n",
       "      <td>Original, Golden or Thin Crust</td>\n",
       "      <td>Express Favorites</td>\n",
       "      <td>Large</td>\n",
       "      <td>18.69</td>\n",
       "    </tr>\n",
       "    <tr>\n",
       "      <th>345</th>\n",
       "      <td>Mozza-Loaded Crust</td>\n",
       "      <td>Express Favorites</td>\n",
       "      <td>Large</td>\n",
       "      <td>18.74</td>\n",
       "    </tr>\n",
       "    <tr>\n",
       "      <th>346</th>\n",
       "      <td>Original or Thin Crust</td>\n",
       "      <td>Express Favorites</td>\n",
       "      <td>Jumbo</td>\n",
       "      <td>21.99</td>\n",
       "    </tr>\n",
       "  </tbody>\n",
       "</table>\n",
       "<p>133 rows × 4 columns</p>\n",
       "</div>"
      ],
      "text/plain": [
       "                                  Pizza Name               Type    Size  Price\n",
       "214                  Cheese (Original Crust)       Cheese Pizza    Mini   4.99\n",
       "215        Cheese (Original or Golden Crust)       Cheese Pizza   Small  10.99\n",
       "216  Cheese (Original, Golden or Thin Crust)       Cheese Pizza  Medium  12.99\n",
       "217              Cheese (Mozza-Loaded Crust)       Cheese Pizza  Medium  13.49\n",
       "218  Cheese (Original, Golden or Thin Crust)       Cheese Pizza   Large  15.99\n",
       "..                                       ...                ...     ...    ...\n",
       "342           Original, Golden or Thin Crust  Express Favorites  Medium  15.34\n",
       "343                       Mozza-Loaded Crust  Express Favorites  Medium  15.24\n",
       "344           Original, Golden or Thin Crust  Express Favorites   Large  18.69\n",
       "345                       Mozza-Loaded Crust  Express Favorites   Large  18.74\n",
       "346                   Original or Thin Crust  Express Favorites   Jumbo  21.99\n",
       "\n",
       "[133 rows x 4 columns]"
      ]
     },
     "execution_count": 82,
     "metadata": {},
     "output_type": "execute_result"
    }
   ],
   "source": [
    "# Drop any row that doesn't contain the value Godfather's Pizza\n",
    "godfather = pizza[pizza[\"Company\"].str.contains(\"Domino's Pizza|Pizza Hut|IMO's Pizza\")==False]\n",
    "\n",
    "godfather = godfather.drop(['Company'], axis=1)\n",
    "    \n",
    "#Display the updated DataFrame\n",
    "godfather"
   ]
  },
  {
   "cell_type": "code",
   "execution_count": 76,
   "id": "173fb816",
   "metadata": {},
   "outputs": [
    {
     "data": {
      "text/plain": [
       "Type                Size  \n",
       "Cheese Pizza        Jumbo     18.990000\n",
       "                    Large     16.240000\n",
       "                    Medium    13.240000\n",
       "                    Mini       4.990000\n",
       "                    Small     10.990000\n",
       "Express Favorites   Jumbo     21.990000\n",
       "                    Large     18.715000\n",
       "                    Medium    15.290000\n",
       "                    Mini       4.990000\n",
       "                    Small     12.690000\n",
       "Gluten-Free Pizzas  Large     23.990000\n",
       "                    Medium    19.990000\n",
       "Specialty Pizzas    Jumbo     28.552500\n",
       "                    Large     24.882778\n",
       "                    Medium    20.837222\n",
       "                    Mini       5.990000\n",
       "                    Small     16.225294\n",
       "Name: Price, dtype: float64"
      ]
     },
     "execution_count": 76,
     "metadata": {},
     "output_type": "execute_result"
    }
   ],
   "source": [
    "# Calculate the average price of each pizza based on Size\n",
    "godfath_price_avg = godfather.groupby([\"Type\",\"Size\"])[\"Price\"].mean()\n",
    "\n",
    "# Display the average price of each pizza based on Size\n",
    "godfath_price_avg"
   ]
  },
  {
   "cell_type": "code",
   "execution_count": 77,
   "id": "03da5a08",
   "metadata": {},
   "outputs": [
    {
     "data": {
      "text/plain": [
       "Size\n",
       "Jumbo     18.99\n",
       "Large     13.99\n",
       "Medium     9.99\n",
       "Mini       4.99\n",
       "Small     10.99\n",
       "Name: Price, dtype: float64"
      ]
     },
     "execution_count": 77,
     "metadata": {},
     "output_type": "execute_result"
    }
   ],
   "source": [
    "# Calculate the lowest price for each pizza by size\n",
    "godfath_size_lowest = godfather.groupby([\"Size\"])[\"Price\"].min()\n",
    "\n",
    "# Display the lowest price for each pizza by size\n",
    "godfath_size_lowest"
   ]
  },
  {
   "cell_type": "code",
   "execution_count": 78,
   "id": "521dbff1",
   "metadata": {},
   "outputs": [
    {
     "data": {
      "text/plain": [
       "Type\n",
       "Cheese Pizza           4.99\n",
       "Express Favorites      4.99\n",
       "Gluten-Free Pizzas    19.99\n",
       "Specialty Pizzas       5.99\n",
       "Name: Price, dtype: float64"
      ]
     },
     "execution_count": 78,
     "metadata": {},
     "output_type": "execute_result"
    }
   ],
   "source": [
    "# Calculate the lowest price for each pizza by type\n",
    "godfath_type_lowest = godfather.groupby([\"Type\"])[\"Price\"].min()\n",
    "\n",
    "# Display the lowest price for each pizza by type\n",
    "godfath_type_lowest"
   ]
  },
  {
   "cell_type": "code",
   "execution_count": 79,
   "id": "342eb056",
   "metadata": {},
   "outputs": [
    {
     "data": {
      "text/plain": [
       "Size\n",
       "Jumbo     29.99\n",
       "Large     27.99\n",
       "Medium    22.49\n",
       "Mini       5.99\n",
       "Small     16.99\n",
       "Name: Price, dtype: float64"
      ]
     },
     "execution_count": 79,
     "metadata": {},
     "output_type": "execute_result"
    }
   ],
   "source": [
    "# Calculate the highest price for each pizza by size\n",
    "godfath_size_highest = godfather.groupby([\"Size\"])[\"Price\"].max()\n",
    "\n",
    "# Display the higest price for each pizza by size\n",
    "godfath_size_highest"
   ]
  },
  {
   "cell_type": "code",
   "execution_count": 80,
   "id": "3371d642",
   "metadata": {},
   "outputs": [
    {
     "data": {
      "text/plain": [
       "Type\n",
       "Cheese Pizza          18.99\n",
       "Express Favorites     21.99\n",
       "Gluten-Free Pizzas    23.99\n",
       "Specialty Pizzas      29.99\n",
       "Name: Price, dtype: float64"
      ]
     },
     "execution_count": 80,
     "metadata": {},
     "output_type": "execute_result"
    }
   ],
   "source": [
    "# Calculate the highest price for each pizza by type\n",
    "godfath_type_highest = godfather.groupby([\"Type\"])[\"Price\"].max()\n",
    "\n",
    "# Display the hightest price for each pizza by type\n",
    "godfath_type_highest"
   ]
  },
  {
   "cell_type": "code",
   "execution_count": 84,
   "id": "ca9ee516",
   "metadata": {},
   "outputs": [
    {
     "data": {
      "text/html": [
       "<div>\n",
       "<style scoped>\n",
       "    .dataframe tbody tr th:only-of-type {\n",
       "        vertical-align: middle;\n",
       "    }\n",
       "\n",
       "    .dataframe tbody tr th {\n",
       "        vertical-align: top;\n",
       "    }\n",
       "\n",
       "    .dataframe thead th {\n",
       "        text-align: right;\n",
       "    }\n",
       "</style>\n",
       "<table border=\"1\" class=\"dataframe\">\n",
       "  <thead>\n",
       "    <tr style=\"text-align: right;\">\n",
       "      <th></th>\n",
       "      <th>Pizza Name</th>\n",
       "      <th>Type</th>\n",
       "      <th>Size</th>\n",
       "      <th>Price</th>\n",
       "    </tr>\n",
       "  </thead>\n",
       "  <tbody>\n",
       "    <tr>\n",
       "      <th>347</th>\n",
       "      <td>Deluxe Pizza</td>\n",
       "      <td>Specialty Pizzas</td>\n",
       "      <td>Small (10\")</td>\n",
       "      <td>12.70</td>\n",
       "    </tr>\n",
       "    <tr>\n",
       "      <th>348</th>\n",
       "      <td>Deluxe Pizza</td>\n",
       "      <td>Specialty Pizzas</td>\n",
       "      <td>Medium (12\")</td>\n",
       "      <td>16.20</td>\n",
       "    </tr>\n",
       "    <tr>\n",
       "      <th>349</th>\n",
       "      <td>Deluxe Pizza</td>\n",
       "      <td>Specialty Pizzas</td>\n",
       "      <td>Large (14\")</td>\n",
       "      <td>19.95</td>\n",
       "    </tr>\n",
       "    <tr>\n",
       "      <th>350</th>\n",
       "      <td>Deluxe Pizza</td>\n",
       "      <td>Specialty Pizzas</td>\n",
       "      <td>X Large (16\")</td>\n",
       "      <td>23.85</td>\n",
       "    </tr>\n",
       "    <tr>\n",
       "      <th>351</th>\n",
       "      <td>Veggie Pizza</td>\n",
       "      <td>Specialty Pizzas</td>\n",
       "      <td>Small (10\")</td>\n",
       "      <td>12.70</td>\n",
       "    </tr>\n",
       "    <tr>\n",
       "      <th>352</th>\n",
       "      <td>Veggie Pizza</td>\n",
       "      <td>Specialty Pizzas</td>\n",
       "      <td>Medium (12\")</td>\n",
       "      <td>16.20</td>\n",
       "    </tr>\n",
       "    <tr>\n",
       "      <th>353</th>\n",
       "      <td>Veggie Pizza</td>\n",
       "      <td>Specialty Pizzas</td>\n",
       "      <td>Large (14\")</td>\n",
       "      <td>19.95</td>\n",
       "    </tr>\n",
       "    <tr>\n",
       "      <th>354</th>\n",
       "      <td>Veggie Pizza</td>\n",
       "      <td>Specialty Pizzas</td>\n",
       "      <td>X Large (16\")</td>\n",
       "      <td>23.85</td>\n",
       "    </tr>\n",
       "    <tr>\n",
       "      <th>355</th>\n",
       "      <td>Cheese Pizza</td>\n",
       "      <td>Specialty Pizzas</td>\n",
       "      <td>Small (10\")</td>\n",
       "      <td>9.30</td>\n",
       "    </tr>\n",
       "    <tr>\n",
       "      <th>356</th>\n",
       "      <td>Cheese Pizza</td>\n",
       "      <td>Specialty Pizzas</td>\n",
       "      <td>Medium (12\")</td>\n",
       "      <td>11.60</td>\n",
       "    </tr>\n",
       "    <tr>\n",
       "      <th>357</th>\n",
       "      <td>Cheese Pizza</td>\n",
       "      <td>Specialty Pizzas</td>\n",
       "      <td>Large (14\")</td>\n",
       "      <td>14.45</td>\n",
       "    </tr>\n",
       "    <tr>\n",
       "      <th>358</th>\n",
       "      <td>Cheese Pizza</td>\n",
       "      <td>Specialty Pizzas</td>\n",
       "      <td>X Large (16\")</td>\n",
       "      <td>17.35</td>\n",
       "    </tr>\n",
       "    <tr>\n",
       "      <th>359</th>\n",
       "      <td>All Meat Pizza</td>\n",
       "      <td>Specialty Pizzas</td>\n",
       "      <td>Small (10\")</td>\n",
       "      <td>12.70</td>\n",
       "    </tr>\n",
       "    <tr>\n",
       "      <th>360</th>\n",
       "      <td>All Meat Pizza</td>\n",
       "      <td>Specialty Pizzas</td>\n",
       "      <td>Medium (12\")</td>\n",
       "      <td>16.20</td>\n",
       "    </tr>\n",
       "    <tr>\n",
       "      <th>361</th>\n",
       "      <td>All Meat Pizza</td>\n",
       "      <td>Specialty Pizzas</td>\n",
       "      <td>Large (14\")</td>\n",
       "      <td>19.95</td>\n",
       "    </tr>\n",
       "    <tr>\n",
       "      <th>362</th>\n",
       "      <td>All Meat Pizza</td>\n",
       "      <td>Specialty Pizzas</td>\n",
       "      <td>X Large (16\")</td>\n",
       "      <td>23.85</td>\n",
       "    </tr>\n",
       "    <tr>\n",
       "      <th>363</th>\n",
       "      <td>BBQ Chicken Pizza</td>\n",
       "      <td>Specialty Pizzas</td>\n",
       "      <td>Small (10\")</td>\n",
       "      <td>12.70</td>\n",
       "    </tr>\n",
       "    <tr>\n",
       "      <th>364</th>\n",
       "      <td>BBQ Chicken Pizza</td>\n",
       "      <td>Specialty Pizzas</td>\n",
       "      <td>Medium (12\")</td>\n",
       "      <td>16.20</td>\n",
       "    </tr>\n",
       "    <tr>\n",
       "      <th>365</th>\n",
       "      <td>BBQ Chicken Pizza</td>\n",
       "      <td>Specialty Pizzas</td>\n",
       "      <td>Large (14\")</td>\n",
       "      <td>19.20</td>\n",
       "    </tr>\n",
       "    <tr>\n",
       "      <th>366</th>\n",
       "      <td>BBQ Chicken Pizza</td>\n",
       "      <td>Specialty Pizzas</td>\n",
       "      <td>X Large (16\")</td>\n",
       "      <td>23.85</td>\n",
       "    </tr>\n",
       "    <tr>\n",
       "      <th>367</th>\n",
       "      <td>Egg-Ceptional Pizza</td>\n",
       "      <td>Specialty Pizzas</td>\n",
       "      <td>Small (10\")</td>\n",
       "      <td>11.80</td>\n",
       "    </tr>\n",
       "    <tr>\n",
       "      <th>368</th>\n",
       "      <td>Egg-Ceptional Pizza</td>\n",
       "      <td>Specialty Pizzas</td>\n",
       "      <td>Medium (12\")</td>\n",
       "      <td>14.95</td>\n",
       "    </tr>\n",
       "    <tr>\n",
       "      <th>369</th>\n",
       "      <td>Egg-Ceptional Pizza</td>\n",
       "      <td>Specialty Pizzas</td>\n",
       "      <td>Large (14\")</td>\n",
       "      <td>18.65</td>\n",
       "    </tr>\n",
       "    <tr>\n",
       "      <th>370</th>\n",
       "      <td>Egg-Ceptional Pizza</td>\n",
       "      <td>Specialty Pizzas</td>\n",
       "      <td>X Large (16\")</td>\n",
       "      <td>22.30</td>\n",
       "    </tr>\n",
       "  </tbody>\n",
       "</table>\n",
       "</div>"
      ],
      "text/plain": [
       "              Pizza Name              Type           Size  Price\n",
       "347         Deluxe Pizza  Specialty Pizzas    Small (10\")  12.70\n",
       "348         Deluxe Pizza  Specialty Pizzas   Medium (12\")  16.20\n",
       "349         Deluxe Pizza  Specialty Pizzas    Large (14\")  19.95\n",
       "350         Deluxe Pizza  Specialty Pizzas  X Large (16\")  23.85\n",
       "351         Veggie Pizza  Specialty Pizzas    Small (10\")  12.70\n",
       "352         Veggie Pizza  Specialty Pizzas   Medium (12\")  16.20\n",
       "353         Veggie Pizza  Specialty Pizzas    Large (14\")  19.95\n",
       "354         Veggie Pizza  Specialty Pizzas  X Large (16\")  23.85\n",
       "355         Cheese Pizza  Specialty Pizzas    Small (10\")   9.30\n",
       "356         Cheese Pizza  Specialty Pizzas   Medium (12\")  11.60\n",
       "357         Cheese Pizza  Specialty Pizzas    Large (14\")  14.45\n",
       "358         Cheese Pizza  Specialty Pizzas  X Large (16\")  17.35\n",
       "359       All Meat Pizza  Specialty Pizzas    Small (10\")  12.70\n",
       "360       All Meat Pizza  Specialty Pizzas   Medium (12\")  16.20\n",
       "361       All Meat Pizza  Specialty Pizzas    Large (14\")  19.95\n",
       "362       All Meat Pizza  Specialty Pizzas  X Large (16\")  23.85\n",
       "363    BBQ Chicken Pizza  Specialty Pizzas    Small (10\")  12.70\n",
       "364    BBQ Chicken Pizza  Specialty Pizzas   Medium (12\")  16.20\n",
       "365    BBQ Chicken Pizza  Specialty Pizzas    Large (14\")  19.20\n",
       "366    BBQ Chicken Pizza  Specialty Pizzas  X Large (16\")  23.85\n",
       "367  Egg-Ceptional Pizza  Specialty Pizzas    Small (10\")  11.80\n",
       "368  Egg-Ceptional Pizza  Specialty Pizzas   Medium (12\")  14.95\n",
       "369  Egg-Ceptional Pizza  Specialty Pizzas    Large (14\")  18.65\n",
       "370  Egg-Ceptional Pizza  Specialty Pizzas  X Large (16\")  22.30"
      ]
     },
     "execution_count": 84,
     "metadata": {},
     "output_type": "execute_result"
    }
   ],
   "source": [
    "# Drop any row that doesn't contain the value IMO's Pizza\n",
    "imo = pizza[pizza[\"Company\"].str.contains(\"Domino's Pizza|Pizza Hut|Godfather's Pizza\")==False]\n",
    "\n",
    "imo = imo.drop(['Company'], axis=1)\n",
    "    \n",
    "#Display the updated DataFrame\n",
    "imo"
   ]
  },
  {
   "cell_type": "code",
   "execution_count": 88,
   "id": "1437cc4e",
   "metadata": {},
   "outputs": [
    {
     "data": {
      "text/plain": [
       "Size\n",
       "Large (14\")      18.691667\n",
       "Medium (12\")     15.225000\n",
       "Small (10\")      11.983333\n",
       "X Large (16\")    22.508333\n",
       "Name: Price, dtype: float64"
      ]
     },
     "execution_count": 88,
     "metadata": {},
     "output_type": "execute_result"
    }
   ],
   "source": [
    "# Calculate the average price of each pizza based on Size\n",
    "imo_price_avg = imo.groupby([\"Size\"])[\"Price\"].mean()\n",
    "\n",
    "# Display the average price of each pizza based on Size\n",
    "imo_price_avg"
   ]
  },
  {
   "cell_type": "code",
   "execution_count": 90,
   "id": "5112ab35",
   "metadata": {},
   "outputs": [
    {
     "data": {
      "text/plain": [
       "Size\n",
       "Large (14\")      14.45\n",
       "Medium (12\")     11.60\n",
       "Small (10\")       9.30\n",
       "X Large (16\")    17.35\n",
       "Name: Price, dtype: float64"
      ]
     },
     "execution_count": 90,
     "metadata": {},
     "output_type": "execute_result"
    }
   ],
   "source": [
    "# Calculate the lowest price for each pizza by size\n",
    "imo_size_lowest = imo.groupby([\"Size\"])[\"Price\"].min()\n",
    "\n",
    "# Display the lowest price for each pizza by size\n",
    "imo_size_lowest"
   ]
  },
  {
   "cell_type": "code",
   "execution_count": 95,
   "id": "1ad38d41",
   "metadata": {},
   "outputs": [
    {
     "data": {
      "text/plain": [
       "Pizza Name\n",
       "All Meat Pizza         12.7\n",
       "BBQ Chicken Pizza      12.7\n",
       "Cheese Pizza            9.3\n",
       "Deluxe Pizza           12.7\n",
       "Egg-Ceptional Pizza    11.8\n",
       "Veggie Pizza           12.7\n",
       "Name: Price, dtype: float64"
      ]
     },
     "execution_count": 95,
     "metadata": {},
     "output_type": "execute_result"
    }
   ],
   "source": [
    "# Calculate the lowest price for each pizza by pizza name\n",
    "imo_type_lowest = imo.groupby([\"Pizza Name\"])[\"Price\"].min()\n",
    "\n",
    "# Display the lowest price for each pizza by type\n",
    "imo_type_lowest"
   ]
  },
  {
   "cell_type": "code",
   "execution_count": 92,
   "id": "53e9a42d",
   "metadata": {},
   "outputs": [
    {
     "data": {
      "text/plain": [
       "Size\n",
       "Large (14\")      19.95\n",
       "Medium (12\")     16.20\n",
       "Small (10\")      12.70\n",
       "X Large (16\")    23.85\n",
       "Name: Price, dtype: float64"
      ]
     },
     "execution_count": 92,
     "metadata": {},
     "output_type": "execute_result"
    }
   ],
   "source": [
    "# Calculate the highest price for each pizza by size\n",
    "imo_size_highest = imo.groupby([\"Size\"])[\"Price\"].max()\n",
    "\n",
    "# Display the higest price for each pizza by size\n",
    "imo_size_highest"
   ]
  },
  {
   "cell_type": "code",
   "execution_count": 96,
   "id": "ff8ec15b",
   "metadata": {},
   "outputs": [
    {
     "data": {
      "text/plain": [
       "Pizza Name\n",
       "All Meat Pizza         23.85\n",
       "BBQ Chicken Pizza      23.85\n",
       "Cheese Pizza           17.35\n",
       "Deluxe Pizza           23.85\n",
       "Egg-Ceptional Pizza    22.30\n",
       "Veggie Pizza           23.85\n",
       "Name: Price, dtype: float64"
      ]
     },
     "execution_count": 96,
     "metadata": {},
     "output_type": "execute_result"
    }
   ],
   "source": [
    "# Calculate the highest price for each pizza by pizza name\n",
    "imo_type_highest = imo.groupby([\"Pizza Name\"])[\"Price\"].max()\n",
    "\n",
    "# Display the hightest price for each pizza by type\n",
    "imo_type_highest"
   ]
  },
  {
   "cell_type": "code",
   "execution_count": null,
   "id": "e146b919",
   "metadata": {},
   "outputs": [],
   "source": []
  }
 ],
 "metadata": {
  "kernelspec": {
   "display_name": "Python 3 (ipykernel)",
   "language": "python",
   "name": "python3"
  },
  "language_info": {
   "codemirror_mode": {
    "name": "ipython",
    "version": 3
   },
   "file_extension": ".py",
   "mimetype": "text/x-python",
   "name": "python",
   "nbconvert_exporter": "python",
   "pygments_lexer": "ipython3",
   "version": "3.9.7"
  }
 },
 "nbformat": 4,
 "nbformat_minor": 5
}
